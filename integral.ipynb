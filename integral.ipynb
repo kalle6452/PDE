{
 "cells": [
  {
   "cell_type": "code",
   "execution_count": 3,
   "metadata": {},
   "outputs": [
    {
     "data": {
      "text/plain": [
       "[a*exp(c + k*t)/(exp(c + k*t) - 1)]"
      ]
     },
     "execution_count": 3,
     "metadata": {},
     "output_type": "execute_result"
    }
   ],
   "source": [
    "import sympy\n",
    "y, a, k, t, x, d, s, c, w = sympy.symbols('y, a, k, t, x, d, s, c, w')\n",
    "ek = sympy.Eq(sympy.log(y) - sympy.log(y-a),k*t + c)\n",
    "test = sympy.solve(ek,y)\n",
    "test"
   ]
  },
  {
   "cell_type": "code",
   "execution_count": 9,
   "metadata": {},
   "outputs": [
    {
     "data": {
      "text/latex": [
       "$\\displaystyle \\frac{x - \\frac{\\sin{\\left(w x \\right)}}{\\sin{\\left(w \\right)}}}{w^{2}}$"
      ],
      "text/plain": [
       "(x - sin(w*x)/sin(w))/w**2"
      ]
     },
     "execution_count": 9,
     "metadata": {},
     "output_type": "execute_result"
    }
   ],
   "source": [
    "f = (1/w**2)*(x-(sympy.sin(w*x))/(sympy.sin(w)))\n",
    "df = sympy.diff(f,x)\n",
    "df2 = sympy.diff(df,x)\n",
    "f"
   ]
  },
  {
   "cell_type": "code",
   "execution_count": 15,
   "metadata": {},
   "outputs": [
    {
     "data": {
      "text/latex": [
       "$\\displaystyle - \\frac{e^{- \\frac{x^{2}}{4 d t}}}{4 \\sqrt{\\pi} t \\sqrt{d t}} + \\frac{x^{2} e^{- \\frac{x^{2}}{4 d t}}}{8 \\sqrt{\\pi} d t^{2} \\sqrt{d t}}$"
      ],
      "text/plain": [
       "-exp(-x**2/(4*d*t))/(4*sqrt(pi)*t*sqrt(d*t)) + x**2*exp(-x**2/(4*d*t))/(8*sqrt(pi)*d*t**2*sqrt(d*t))"
      ]
     },
     "execution_count": 15,
     "metadata": {},
     "output_type": "execute_result"
    }
   ],
   "source": [
    "f = (1/(sympy.sqrt(4*sympy.pi*d*t)))*sympy.exp((-(x)**2)/(4*d*t))\n",
    "sympy.diff(f,t)"
   ]
  },
  {
   "cell_type": "code",
   "execution_count": 23,
   "metadata": {},
   "outputs": [
    {
     "data": {
      "text/latex": [
       "$\\displaystyle - \\frac{e^{- \\frac{x^{2}}{4 d t}}}{4 \\sqrt{\\pi} d t \\sqrt{d t}} + \\frac{x^{2} e^{- \\frac{x^{2}}{4 d t}}}{8 \\sqrt{\\pi} d^{2} t^{2} \\sqrt{d t}}$"
      ],
      "text/plain": [
       "-exp(-x**2/(4*d*t))/(4*sqrt(pi)*d*t*sqrt(d*t)) + x**2*exp(-x**2/(4*d*t))/(8*sqrt(pi)*d**2*t**2*sqrt(d*t))"
      ]
     },
     "execution_count": 23,
     "metadata": {},
     "output_type": "execute_result"
    }
   ],
   "source": [
    "f = (1/(sympy.sqrt(4*sympy.pi*d*t)))*sympy.exp((-(x)**2)/(4*d*t))\n",
    "f = sympy.diff(f,x)\n",
    "sympy.diff(f,x)"
   ]
  },
  {
   "cell_type": "code",
   "execution_count": 3,
   "metadata": {},
   "outputs": [
    {
     "data": {
      "text/latex": [
       "$\\displaystyle - \\frac{- \\log{\\left(y \\right)} + \\log{\\left(- a + y \\right)}}{a}$"
      ],
      "text/plain": [
       "-(-log(y) + log(-a + y))/a"
      ]
     },
     "execution_count": 3,
     "metadata": {},
     "output_type": "execute_result"
    }
   ],
   "source": [
    "f = 1/(y*(a-y))\n",
    "f\n",
    "sympy.integrate(f, y)"
   ]
  }
 ],
 "metadata": {
  "kernelspec": {
   "display_name": "virtual-python",
   "language": "python",
   "name": "python3"
  },
  "language_info": {
   "codemirror_mode": {
    "name": "ipython",
    "version": 3
   },
   "file_extension": ".py",
   "mimetype": "text/x-python",
   "name": "python",
   "nbconvert_exporter": "python",
   "pygments_lexer": "ipython3",
   "version": "3.12.6"
  }
 },
 "nbformat": 4,
 "nbformat_minor": 2
}

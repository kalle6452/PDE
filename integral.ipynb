{
 "cells": [
  {
   "cell_type": "code",
   "execution_count": 17,
   "metadata": {},
   "outputs": [
    {
     "data": {
      "text/plain": [
       "[a*exp(c + k*t)/(exp(c + k*t) - 1)]"
      ]
     },
     "execution_count": 17,
     "metadata": {},
     "output_type": "execute_result"
    }
   ],
   "source": [
    "import sympy as sp\n",
    "y, a, k, t, x, d, s, c, w, n, i, h = sp.symbols('y, a, k, t, x, d, s, c, w, n, i, h')\n",
    "#ek = sympy.Eq(sympy.log(y) - sympy.log(y-a),k*t + c)\n",
    "#test = sympy.solve(ek,y)\n",
    "test"
   ]
  },
  {
   "cell_type": "code",
   "execution_count": 9,
   "metadata": {},
   "outputs": [
    {
     "data": {
      "text/latex": [
       "$\\displaystyle - x$"
      ],
      "text/plain": [
       "-x"
      ]
     },
     "execution_count": 9,
     "metadata": {},
     "output_type": "execute_result"
    }
   ],
   "source": [
    "u = (1/w**2)*(x-(sympy.sin(w*x))/(sympy.sin(w)))\n",
    "diff_u = sympy.diff(u,x)\n",
    "d_2_u = sympy.diff(diff_u,x)\n",
    "-d_2_u - (w**2)*u"
   ]
  },
  {
   "cell_type": "code",
   "execution_count": 9,
   "metadata": {},
   "outputs": [
    {
     "data": {
      "text/latex": [
       "$\\displaystyle x - \\frac{e^{\\frac{x - 1}{i}} - e^{- \\frac{1}{i}}}{1 - e^{- \\frac{1}{i}}}$"
      ],
      "text/plain": [
       "x - (exp((x - 1)/i) - exp(-1/i))/(1 - exp(-1/i))"
      ]
     },
     "execution_count": 9,
     "metadata": {},
     "output_type": "execute_result"
    }
   ],
   "source": [
    "x - (sympy.exp((x-1)/i)-sympy.exp(-1/i))/((1-sympy.exp(-1/i)))"
   ]
  },
  {
   "cell_type": "code",
   "execution_count": 15,
   "metadata": {},
   "outputs": [
    {
     "data": {
      "text/latex": [
       "$\\displaystyle \\frac{- \\frac{- h + x}{\\left(- h + x\\right)^{2} + 1} + \\frac{h + x}{\\left(h + x\\right)^{2} + 1}}{2 h}$"
      ],
      "text/plain": [
       "(-(-h + x)/((-h + x)**2 + 1) + (h + x)/((h + x)**2 + 1))/(2*h)"
      ]
     },
     "execution_count": 15,
     "metadata": {},
     "output_type": "execute_result"
    }
   ],
   "source": [
    "((x+h)/(1+(x+h)**2) - (x-h)/(1+(x-h)**2))/(2*h)"
   ]
  },
  {
   "cell_type": "code",
   "execution_count": 18,
   "metadata": {},
   "outputs": [
    {
     "data": {
      "text/latex": [
       "$\\displaystyle \\frac{i x^{i} \\left(1 - x\\right)^{- i + n} {\\binom{n}{i}}}{x} + \\frac{x^{i} \\left(1 - x\\right)^{- i + n} \\left(i - n\\right) {\\binom{n}{i}}}{1 - x}$"
      ],
      "text/plain": [
       "i*x**i*(1 - x)**(-i + n)*binomial(n, i)/x + x**i*(1 - x)**(-i + n)*(i - n)*binomial(n, i)/(1 - x)"
      ]
     },
     "execution_count": 18,
     "metadata": {},
     "output_type": "execute_result"
    }
   ],
   "source": [
    "fun = sp.binomial(n,i)*x**i*(1-x)**(n-i)\n",
    "sp.diff(fun, x)"
   ]
  }
 ],
 "metadata": {
  "kernelspec": {
   "display_name": "virtual-python",
   "language": "python",
   "name": "python3"
  },
  "language_info": {
   "codemirror_mode": {
    "name": "ipython",
    "version": 3
   },
   "file_extension": ".py",
   "mimetype": "text/x-python",
   "name": "python",
   "nbconvert_exporter": "python",
   "pygments_lexer": "ipython3",
   "version": "3.12.7"
  }
 },
 "nbformat": 4,
 "nbformat_minor": 2
}
